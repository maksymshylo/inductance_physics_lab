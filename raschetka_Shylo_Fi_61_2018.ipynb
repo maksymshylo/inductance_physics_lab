{
 "cells": [
  {
   "cell_type": "code",
   "execution_count": 125,
   "metadata": {},
   "outputs": [],
   "source": [
    "import math\n",
    "Omega = (9.5)*(10**3)\n",
    "R = 1.7\n",
    "R_crit = 10.5\n",
    "frequency = 1.9*(10**3)\n",
    "Eo = 0.3"
   ]
  },
  {
   "cell_type": "code",
   "execution_count": 126,
   "metadata": {
    "scrolled": true
   },
   "outputs": [
    {
     "name": "stdout",
     "output_type": "stream",
     "text": [
      "Індуктивність: L =  0.0005526315789473684\n",
      "Ємність: C =  2.0050125313283208e-05\n",
      "Коефіцієнт затухання: hamma =  1538.095238095238\n",
      "Резонансна колова частота:  9500.0\n",
      "Максимальна амплітуда струму:  0.17647058823529413\n"
     ]
    }
   ],
   "source": [
    "L = R_crit/(2*Omega)\n",
    "C = 2/(R_crit*Omega)\n",
    "hamma = (Omega*R)/R_crit\n",
    "Q = math.pi*frequency/(hamma)\n",
    "omega_res = Omega\n",
    "I_o_max_vid_omega_res = Eo/(2*L*Omega*R/R_crit)\n",
    "print(\"Індуктивність: L = \",L)\n",
    "print(\"Ємність: C = \", C)\n",
    "print(\"Коефіцієнт затухання: hamma = \", hamma)\n",
    "print(\"Резонансна колова частота: \",omega_res)\n",
    "print(\"Максимальна амплітуда струму: \",I_o_max_vid_omega_res)"
   ]
  },
  {
   "cell_type": "code",
   "execution_count": 127,
   "metadata": {
    "scrolled": false
   },
   "outputs": [
    {
     "name": "stdout",
     "output_type": "stream",
     "text": [
      "[372 534]\n",
      "омега мале_1: 8.084584584584587\n",
      "омега мале_2: 11.165665665665667\n",
      "w: 1.0 Io_ot_omega_maloe(w): 6.078823277481849 Io_ot_omega_maloe(w)_max/sqrt(2): 124.78349017230207\n",
      "w: 1.019019019019019 Io_ot_omega_maloe(w): 6.196958367882302 Io_ot_omega_maloe(w)_max/sqrt(2): 124.78349017230207\n",
      "w: 1.038038038038038 Io_ot_omega_maloe(w): 6.315238017895924 Io_ot_omega_maloe(w)_max/sqrt(2): 124.78349017230207\n",
      "w: 1.057057057057057 Io_ot_omega_maloe(w): 6.433665117044946 Io_ot_omega_maloe(w)_max/sqrt(2): 124.78349017230207\n",
      "w: 1.0760760760760761 Io_ot_omega_maloe(w): 6.552242565778182 Io_ot_omega_maloe(w)_max/sqrt(2): 124.78349017230207\n",
      "w: 1.095095095095095 Io_ot_omega_maloe(w): 6.670973275699775 Io_ot_omega_maloe(w)_max/sqrt(2): 124.78349017230207\n",
      "w: 1.1141141141141142 Io_ot_omega_maloe(w): 6.789860169799601 Io_ot_omega_maloe(w)_max/sqrt(2): 124.78349017230207\n",
      "w: 1.1331331331331331 Io_ot_omega_maloe(w): 6.908906182685312 Io_ot_omega_maloe(w)_max/sqrt(2): 124.78349017230207\n",
      "w: 1.1521521521521523 Io_ot_omega_maloe(w): 7.028114260816092 Io_ot_omega_maloe(w)_max/sqrt(2): 124.78349017230207\n",
      "w: 1.1711711711711712 Io_ot_omega_maloe(w): 7.147487362738144 Io_ot_omega_maloe(w)_max/sqrt(2): 124.78349017230207\n",
      "w: 1.1901901901901901 Io_ot_omega_maloe(w): 7.267028459321958 Io_ot_omega_maloe(w)_max/sqrt(2): 124.78349017230207\n",
      "w: 1.2092092092092093 Io_ot_omega_maloe(w): 7.38674053400138 Io_ot_omega_maloe(w)_max/sqrt(2): 124.78349017230207\n",
      "w: 1.2282282282282282 Io_ot_omega_maloe(w): 7.506626583014529 Io_ot_omega_maloe(w)_max/sqrt(2): 124.78349017230207\n",
      "w: 1.2472472472472473 Io_ot_omega_maloe(w): 7.62668961564662 Io_ot_omega_maloe(w)_max/sqrt(2): 124.78349017230207\n",
      "w: 1.2662662662662663 Io_ot_omega_maloe(w): 7.746932654474686 Io_ot_omega_maloe(w)_max/sqrt(2): 124.78349017230207\n",
      "w: 1.2852852852852852 Io_ot_omega_maloe(w): 7.8673587356142844 Io_ot_omega_maloe(w)_max/sqrt(2): 124.78349017230207\n",
      "w: 1.3043043043043043 Io_ot_omega_maloe(w): 7.987970908968208 Io_ot_omega_maloe(w)_max/sqrt(2): 124.78349017230207\n",
      "w: 1.3233233233233235 Io_ot_omega_maloe(w): 8.108772238477217 Io_ot_omega_maloe(w)_max/sqrt(2): 124.78349017230207\n",
      "w: 1.3423423423423424 Io_ot_omega_maloe(w): 8.229765802372897 Io_ot_omega_maloe(w)_max/sqrt(2): 124.78349017230207\n",
      "w: 1.3613613613613613 Io_ot_omega_maloe(w): 8.350954693432602 Io_ot_omega_maloe(w)_max/sqrt(2): 124.78349017230207\n"
     ]
    },
    {
     "data": {
      "image/png": "[encoded data removed]",
      "text/plain": [
       "<Figure size 432x288 with 1 Axes>"
      ]
     },
     "metadata": {},
     "output_type": "display_data"
    }
   ],
   "source": [
    "import numpy as np\n",
    "import matplotlib.pyplot as plt\n",
    "%matplotlib inline\n",
    "omega_maloe = np.linspace(1, 20,1000) #для інших варіантів потрібно змініти друге значення і третє для точних розрахунків\n",
    "\n",
    "#linspace - масив даних: перший і другий параметри це початкові і кінцеві значення вибірки, третій параметр - кількість значень.\n",
    "\n",
    "Io_ot_omega_maloe = ((Eo/L)*1/((2*Omega*R/R_crit)**2 +(Omega**2/(omega_maloe*(10**3)) - omega_maloe*(10**3))**2 )**0.5)*(10**3)\n",
    "t = ( max(Io_ot_omega_maloe))/(2**0.5)*(omega_maloe/omega_maloe)\n",
    "\n",
    "#t - фінкція І = max(Io_ot_omega_maloe))/(2**0.5)\n",
    "\n",
    "idx = np.argwhere(np.diff(np.sign(Io_ot_omega_maloe - t )) != 0).reshape(-1)\n",
    "\n",
    "#argwhere(array=*/>< y)функція яка будує масив де елементи вхідного масиву відповідать умові що задана в аргументі argwhere\n",
    "#sign - сигнум функція\n",
    "\n",
    "#reshape(-1) - робить одновимірний масив\n",
    "\n",
    "plt.xlabel('omega_maloe')\n",
    "plt.ylabel('Io_ot_omega_maloe')\n",
    "plt.title(\"Графік залежності струму від частоти\")\n",
    "plt.plot(omega_maloe, Io_ot_omega_maloe)\n",
    "plt.plot(omega_maloe, t)\n",
    "for i in range(len(idx)):\n",
    "    plt.plot((omega_maloe[idx[i]]+omega_maloe[idx[i]+1])/2,(t[idx[i]]+t[idx[i]+1])/2, 'ro')\n",
    "\n",
    "print(idx)\n",
    "print(\"омега мале_1:\",(omega_maloe[idx[0]]+omega_maloe[idx[0]+1])/2)\n",
    "print(\"омега мале_2:\",(omega_maloe[idx[1]]+omega_maloe[idx[1]+1])/2)\n",
    "plt.grid()\n",
    "for i in range(0,20):\n",
    "    print(\"w:\",omega_maloe[i],\"Io_ot_omega_maloe(w):\",Io_ot_omega_maloe[i],\"Io_ot_omega_maloe(w)_max/sqrt(2):\",t[i])\n",
    "plt.legend(['Io_ot_omega_maloe', 'Io_ot_omega_maloe(w)_max/sqrt(2)'])\n",
    "plt.show()"
   ]
  },
  {
   "cell_type": "code",
   "execution_count": 129,
   "metadata": {
    "scrolled": true
   },
   "outputs": [
    {
     "name": "stdout",
     "output_type": "stream",
     "text": [
      "Дельта омега мале: 3.0810810810810807\n",
      "Експериментальне значення добротності:  3.0833333333333335\n",
      "Теоретичне значення добротності:  3.088235294117647\n",
      "Похибка:  0.15873015873015817 %\n"
     ]
    }
   ],
   "source": [
    "Delta_omega = (omega_maloe[idx[1]]+omega_maloe[idx[1]+1])/2 - (omega_maloe[idx[0]]+omega_maloe[idx[0]+1])/2\n",
    "Q_zirochka = Omega/(Delta_omega*(10**3))\n",
    "Q_teoretychne = Omega/(2*hamma)\n",
    "pohybka = 100*(Q_teoretychne - Q_zirochka)/Q_teoretychne\n",
    "print(\"Дельта омега мале:\",Delta_omega)\n",
    "print(\"Експериментальне значення добротності: \",Q_zirochka)\n",
    "print(\"Теоретичне значення добротності: \",Q_teoretychne)\n",
    "print(\"Похибка: \",pohybka, \"%\")"
   ]
  },
  {
   "cell_type": "code",
   "execution_count": 130,
   "metadata": {},
   "outputs": [
    {
     "name": "stdout",
     "output_type": "stream",
     "text": [
      "Імпеданс контура на частоті мю:  2.9570445439139337 Ом\n"
     ]
    }
   ],
   "source": [
    "z = ( R**2 +( 2*math.pi*frequency*L  - 1/(2*math.pi*frequency*C)  )**2    )**0.5\n",
    "print(\"Імпеданс контура на частоті мю: \",z, \"Ом\")"
   ]
  },
  {
   "cell_type": "code",
   "execution_count": 131,
   "metadata": {},
   "outputs": [
    {
     "name": "stdout",
     "output_type": "stream",
     "text": [
      "Тангенс фі:  1.423251362574302\n",
      "Кут фі:  54.907486795846374 градусів\n"
     ]
    }
   ],
   "source": [
    "tg_fi = (1/R)*(2*math.pi*frequency*L  - 1/(2*math.pi*frequency*C))\n",
    "fi = math.atan(tg_fi)\n",
    "print(\"Тангенс фі: \", tg_fi)\n",
    "print(\"Кут фі: \", fi*180/math.pi,\"градусів\")"
   ]
  },
  {
   "cell_type": "code",
   "execution_count": 132,
   "metadata": {},
   "outputs": [
    {
     "name": "stdout",
     "output_type": "stream",
     "text": [
      "Діюче значення І_g:  124.78349017230207 мА\n",
      "Діюче значення Епсулон_g:  0.21213203435596423 B\n",
      "Потужність, що споживає контур:  0.015217889988808764 Bт\n"
     ]
    }
   ],
   "source": [
    "I_g = ( max(Io_ot_omega_maloe))/(2**0.5)\n",
    "Epsulon_g = Eo/(2**0.5)\n",
    "P = Epsulon_g*I_g*math.cos(math.radians(fi*180/math.pi))*(10**-3)\n",
    "print(\"Діюче значення І_g: \", I_g,\"мА\")\n",
    "print(\"Діюче значення Епсулон_g: \", Epsulon_g,\"B\")\n",
    "print(\"Потужність, що споживає контур: \", P,\"Bт\")"
   ]
  },
  {
   "cell_type": "code",
   "execution_count": 133,
   "metadata": {},
   "outputs": [
    {
     "name": "stdout",
     "output_type": "stream",
     "text": [
      "Числове значення для ІНДУКТИВНОСТІ:  1.1642367228457833 B\n",
      "Числове значення для ЄМНОСТІ:  0.7372615174913196 B\n",
      "Числове значення для АКТИВНОГО ОПОРУ:  1.852940293700154 B\n"
     ]
    }
   ],
   "source": [
    "U_L_max = max(Io_ot_omega_maloe)*(10**-3)*2*math.pi*frequency*L\n",
    "U_C_max = max(Io_ot_omega_maloe)*(10**-3)/(2*math.pi*frequency*C)\n",
    "U_R_max = R_crit*max(Io_ot_omega_maloe)*(10**-3)\n",
    "print(\"Числове значення для ІНДУКТИВНОСТІ: \",U_L_max, \"B\")\n",
    "print(\"Числове значення для ЄМНОСТІ: \", U_C_max, \"B\")\n",
    "print(\"Числове значення для АКТИВНОГО ОПОРУ: \", U_R_max, \"B\")"
   ]
  },
  {
   "cell_type": "code",
   "execution_count": 134,
   "metadata": {},
   "outputs": [
    {
     "name": "stdout",
     "output_type": "stream",
     "text": [
      "Залежність амплітуди напруги на конденсаторі від колової частоти генератора:  0.6638725116198055 B\n"
     ]
    }
   ],
   "source": [
    "Epsulon_C_ot_omega_maloe = Eo*(R_crit**2)/(   2*R*( 2*(R_crit**2) - 2*R*R  )**0.5    )\n",
    "print(\"Залежність амплітуди напруги на конденсаторі від колової частоти генератора: \",Epsulon_C_ot_omega_maloe,\"B\")"
   ]
  },
  {
   "cell_type": "code",
   "execution_count": 135,
   "metadata": {},
   "outputs": [
    {
     "name": "stdout",
     "output_type": "stream",
     "text": [
      "Омега штрих мале:  9247.622725711592 Гц\n",
      "Відношення омега штрих мале до омега велике нульве:  97.34339711275359 %\n",
      "Відрізняється на:  2.6566028872464074 %\n"
     ]
    }
   ],
   "source": [
    "omega_shtruh_maloe =Omega*( (  1 - 2*R*R/(R_crit*R_crit) )**0.5 )\n",
    "print(\"Омега штрих мале: \",omega_shtruh_maloe, \"Гц\")\n",
    "print(\"Відношення омега штрих мале до омега велике нульве: \",100*omega_shtruh_maloe/Omega ,\"%\")\n",
    "print(\"Відрізняється на: \", 100 - 100*omega_shtruh_maloe/Omega,\"%\")"
   ]
  },
  {
   "cell_type": "code",
   "execution_count": 136,
   "metadata": {
    "scrolled": false
   },
   "outputs": [
    {
     "name": "stdout",
     "output_type": "stream",
     "text": [
      "омега мале_1: 7.523758758758758\n",
      "омега мале_2: 10.685340340340339\n",
      "w: 0.01 Epsulon(w): 300.0003149832581 Epsulon(w)_max/sqrt(2): 663.8658129095387\n",
      "w: 0.03001001001001001 Epsulon(w): 300.0028367639186 Epsulon(w)_max/sqrt(2): 663.8658129095387\n",
      "w: 0.05002002002002002 Epsulon(w): 300.00788107614056 Epsulon(w)_max/sqrt(2): 663.8658129095387\n",
      "w: 0.07003003003003003 Epsulon(w): 300.0154481599425 Epsulon(w)_max/sqrt(2): 663.8658129095387\n",
      "w: 0.09004004004004003 Epsulon(w): 300.0255383753998 Epsulon(w)_max/sqrt(2): 663.8658129095387\n",
      "w: 0.11005005005005004 Epsulon(w): 300.0381522026861 Epsulon(w)_max/sqrt(2): 663.8658129095387\n",
      "w: 0.13006006006006005 Epsulon(w): 300.053290242125 Epsulon(w)_max/sqrt(2): 663.8658129095387\n",
      "w: 0.15007007007007006 Epsulon(w): 300.0709532142579 Epsulon(w)_max/sqrt(2): 663.8658129095387\n",
      "w: 0.17008008008008008 Epsulon(w): 300.09114195992305 Epsulon(w)_max/sqrt(2): 663.8658129095387\n",
      "w: 0.1900900900900901 Epsulon(w): 300.1138574403495 Epsulon(w)_max/sqrt(2): 663.8658129095387\n",
      "w: 0.2101001001001001 Epsulon(w): 300.13910073726345 Epsulon(w)_max/sqrt(2): 663.8658129095387\n",
      "w: 0.2301101101101101 Epsulon(w): 300.16687305300866 Epsulon(w)_max/sqrt(2): 663.8658129095387\n",
      "w: 0.2501201201201201 Epsulon(w): 300.1971757106793 Epsulon(w)_max/sqrt(2): 663.8658129095387\n",
      "w: 0.2701301301301301 Epsulon(w): 300.2300101542682 Epsulon(w)_max/sqrt(2): 663.8658129095387\n",
      "w: 0.2901401401401401 Epsulon(w): 300.2653779488258 Epsulon(w)_max/sqrt(2): 663.8658129095387\n",
      "w: 0.31015015015015013 Epsulon(w): 300.3032807806353 Epsulon(w)_max/sqrt(2): 663.8658129095387\n",
      "w: 0.33016016016016014 Epsulon(w): 300.3437204573994 Epsulon(w)_max/sqrt(2): 663.8658129095387\n",
      "w: 0.35017017017017016 Epsulon(w): 300.386698908442 Epsulon(w)_max/sqrt(2): 663.8658129095387\n",
      "w: 0.3701801801801802 Epsulon(w): 300.4322181849225 Epsulon(w)_max/sqrt(2): 663.8658129095387\n",
      "w: 0.3901901901901902 Epsulon(w): 300.4802804600641 Epsulon(w)_max/sqrt(2): 663.8658129095387\n"
     ]
    },
    {
     "data": {
      "image/png": "[encoded data removed]",
      "text/plain": [
       "<Figure size 432x288 with 1 Axes>"
      ]
     },
     "metadata": {},
     "output_type": "display_data"
    }
   ],
   "source": [
    "import numpy as np\n",
    "import matplotlib.pyplot as plt\n",
    "%matplotlib inline\n",
    "omega_maloe = np.linspace(0.01, 20, 1000) #для інших варіантів потрібно змініти друге значення і третє для точних розрахунків\n",
    "Epsulon_C = ((  Eo/(omega_maloe*(10**3)*L*C)   )*1/(   (2*Omega*R/R_crit)**2 +    (Omega**2/(omega_maloe*(10**3)) - omega_maloe*(10**3))**2 )**0.5)*(10**3)\n",
    "t = ( max(Epsulon_C))/(2**0.5)*(omega_maloe/omega_maloe)\n",
    "idx = np.argwhere(np.diff(np.sign(Epsulon_C - t )) != 0).reshape(-1) + 0\n",
    "plt.xlabel('omega_maloe')\n",
    "plt.ylabel('Epsulon_C')\n",
    "plt.title(\"Графік залежності епсулон від частоти\")\n",
    "plt.plot(omega_maloe, Epsulon_C)\n",
    "plt.plot(omega_maloe, t)\n",
    "for i in range(len(idx)):\n",
    "    plt.plot((omega_maloe[idx[i]]+omega_maloe[idx[i]+1])/2,(t[idx[i]]+t[idx[i]+1])/2, 'ro')\n",
    "\n",
    "print(\"омега мале_1:\",(omega_maloe[idx[0]]+omega_maloe[idx[0]+1])/2)\n",
    "print(\"омега мале_2:\",(omega_maloe[idx[1]]+omega_maloe[idx[1]+1])/2)\n",
    "plt.grid()\n",
    "for i in range(0,20):\n",
    "    print(\"w:\",omega_maloe[i],\"Epsulon(w):\",Epsulon_C[i],\"Epsulon(w)_max/sqrt(2):\",t[i])\n",
    "plt.legend(['Epsulon_C', 'Epsulon(w)_max/sqrt(2)'])\n",
    "plt.show()"
   ]
  },
  {
   "cell_type": "code",
   "execution_count": 139,
   "metadata": {},
   "outputs": [
    {
     "name": "stdout",
     "output_type": "stream",
     "text": [
      "Дельта омега мале: 3.161581581581581\n",
      "Експериментальне значення добротності:  3.0048251974088314\n",
      "Теоретичне значення добротності:  3.088235294117647\n",
      "Похибка:  2.7008983696187983 %\n"
     ]
    }
   ],
   "source": [
    "Delta_omega = (omega_maloe[idx[1]]+omega_maloe[idx[1]+1])/2 - (omega_maloe[idx[0]]+omega_maloe[idx[0]+1])/2\n",
    "Q_zirochka = Omega/(Delta_omega*(10**3))\n",
    "Q_teoretychne = Omega/(2*hamma)\n",
    "pohybka = 100*(Q_teoretychne - Q_zirochka)/Q_teoretychne\n",
    "print(\"Дельта омега мале:\",Delta_omega)\n",
    "print(\"Експериментальне значення добротності: \",Q_zirochka)\n",
    "print(\"Теоретичне значення добротності: \",Q_teoretychne)\n",
    "print(\"Похибка: \",pohybka, \"%\")"
   ]
  }
 ],
 "metadata": {
  "kernelspec": {
   "display_name": "Python 3",
   "language": "python",
   "name": "python3"
  },
  "language_info": {
   "codemirror_mode": {
    "name": "ipython",
    "version": 3
   },
   "file_extension": ".py",
   "mimetype": "text/x-python",
   "name": "python",
   "nbconvert_exporter": "python",
   "pygments_lexer": "ipython3",
   "version": "3.7.3"
  }
 },
 "nbformat": 4,
 "nbformat_minor": 2
}
